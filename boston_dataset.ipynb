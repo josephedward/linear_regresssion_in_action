{
 "cells": [
  {
   "cell_type": "code",
   "execution_count": 2,
   "metadata": {},
   "outputs": [],
   "source": [
    "from sklearn.datasets import load_boston\n",
    "from sklearn.preprocessing import scale \n",
    "boston = load_boston()\n",
    "X,y = scale(boston.data), boston.target"
   ]
  },
  {
   "cell_type": "code",
   "execution_count": 3,
   "metadata": {},
   "outputs": [
    {
     "output_type": "execute_result",
     "data": {
      "text/plain": "LinearRegression(copy_X=True, fit_intercept=True, n_jobs=None, normalize=False)"
     },
     "metadata": {},
     "execution_count": 3
    }
   ],
   "source": [
    "from sklearn.linear_model import LinearRegression\n",
    "regression = LinearRegression()\n",
    "regression.fit(X, y)"
   ]
  },
  {
   "cell_type": "code",
   "execution_count": 4,
   "metadata": {},
   "outputs": [
    {
     "output_type": "stream",
     "name": "stdout",
     "text": "R2 0.741\n"
    }
   ],
   "source": [
    "print('R2 %0.3f' % regression.score(X,y))"
   ]
  },
  {
   "cell_type": "code",
   "execution_count": 5,
   "metadata": {},
   "outputs": [
    {
     "output_type": "stream",
     "name": "stdout",
     "text": "['CRIM:-0.9', 'ZN:1.1', 'INDUS:0.1', 'CHAS:0.7', 'NOX:-2.1', 'RM:2.7', 'AGE:0.0', 'DIS:-3.1', 'RAD:2.7', 'TAX:-2.1', 'PTRATIO:-2.1', 'B:0.8', 'LSTAT:-3.7']\n"
    }
   ],
   "source": [
    "print([a+':'+str(round(b,1)) for a,b in zip(boston.feature_names, regression.coef_)])"
   ]
  },
  {
   "cell_type": "markdown",
   "metadata": {},
   "source": [
    "**Conclusion**\n",
    "Distance to employment centers makes the most difference in real estate housing prices."
   ]
  },
  {
   "cell_type": "markdown",
   "metadata": {},
   "source": [
    "**Polynomial Expansion**\n"
   ]
  },
  {
   "cell_type": "code",
   "execution_count": 19,
   "metadata": {},
   "outputs": [
    {
     "output_type": "stream",
     "name": "stdout",
     "text": "0         1         2         3         4         5         6    \\\n0    1.0 -0.419782  0.284830 -1.287909 -0.272599 -0.144217  0.413672   \n1    1.0 -0.417339 -0.487722 -0.593381 -0.272599 -0.740262  0.194274   \n2    1.0 -0.417342 -0.487722 -0.593381 -0.272599 -0.740262  1.282714   \n3    1.0 -0.416750 -0.487722 -1.306878 -0.272599 -0.835284  1.016303   \n4    1.0 -0.412482 -0.487722 -1.306878 -0.272599 -0.835284  1.228577   \n..   ...       ...       ...       ...       ...       ...       ...   \n501  1.0 -0.413229 -0.487722  0.115738 -0.272599  0.158124  0.439316   \n502  1.0 -0.415249 -0.487722  0.115738 -0.272599  0.158124 -0.234548   \n503  1.0 -0.413447 -0.487722  0.115738 -0.272599  0.158124  0.984960   \n504  1.0 -0.407764 -0.487722  0.115738 -0.272599  0.158124  0.725672   \n505  1.0 -0.415000 -0.487722  0.115738 -0.272599  0.158124 -0.362767   \n\n          7         8         9    ...       95        96        97   \\\n0   -0.120013  0.140214 -0.982843  ...  0.444367  0.972582 -0.294009   \n1    0.367166  0.557160 -0.867883  ...  0.974820  0.299254 -0.435464   \n2   -0.265812  0.557160 -0.867883  ...  0.974820  0.299254 -0.391404   \n3   -0.809889  1.077737 -0.752922  ...  1.223491 -0.125027 -0.460324   \n4   -0.511180  1.077737 -0.752922  ...  1.223491 -0.125027 -0.487854   \n..        ...       ...       ...  ...       ...       ...       ...   \n501  0.018673 -0.625796 -0.982843  ...  0.645149 -0.944951 -0.311017   \n502  0.288933 -0.716639 -0.982843  ...  0.645149 -0.944951 -0.354258   \n503  0.797449 -0.773684 -0.982843  ...  0.645149 -0.944951 -0.354258   \n504  0.736996 -0.668437 -0.982843  ...  0.645149 -0.944951 -0.323875   \n505  0.434732 -0.613246 -0.982843  ...  0.645149 -0.944951 -0.354258   \n\n          98        99        100       101       102       103       104  \n0    0.716979  2.128682 -0.643495  1.569246  0.194527 -0.474379  1.156834  \n1    0.486200  0.091866 -0.133680  0.149255  0.194527 -0.217191  0.242497  \n2    1.193412  0.091866 -0.120155  0.366358  0.157154 -0.479172  1.461022  \n3    1.505994  0.012776  0.047040 -0.153895  0.173192 -0.566613  1.853728  \n4    1.135429  0.012776  0.049853 -0.116028  0.194527 -0.452740  1.053705  \n..        ...       ...       ...       ...       ...       ...       ...  \n501  0.335861  1.384072  0.455547 -0.491936  0.149937 -0.161914  0.174847  \n502  0.402288  1.384072  0.518883 -0.589233  0.194527 -0.220901  0.250851  \n503  0.789595  1.384072  0.518883 -1.156522  0.194527 -0.433575  0.966383  \n504  0.695020  1.384072  0.474380 -1.017998  0.162590 -0.348911  0.748747  \n505  0.537395  1.384072  0.518883 -0.787124  0.194527 -0.295089  0.447639  \n\n[506 rows x 105 columns]\n"
    }
   ],
   "source": [
    "from sklearn.preprocessing import PolynomialFeatures\n",
    "from sklearn.model_selection import train_test_split\n",
    "from sklearn.metrics import r2_score\n",
    "pf = PolynomialFeatures(degree=2)\n",
    "poly_x = pf.fit_transform(X)\n",
    "import pandas as pd\n",
    "poly_x_df= pd.DataFrame(poly_x)\n",
    "\n",
    "print(poly_x_df)\n",
    "\n",
    "\n",
    "X_train, X_test, y_train, y_test = (\n",
    "    train_test_split(poly_x, y, test_size=.33, random_state=89))\n"
   ]
  },
  {
   "cell_type": "code",
   "execution_count": 18,
   "metadata": {},
   "outputs": [
    {
     "output_type": "stream",
     "name": "stdout",
     "text": "R2: 0.840\n"
    }
   ],
   "source": [
    "\n",
    "from sklearn.linear_model import Ridge\n",
    "reg_regression = Ridge(alpha=0.1, normalize=True)\n",
    "reg_regression.fit(X_train, y_train)\n",
    "print('R2: %0.3f'\n",
    "    % r2_score(y_test, reg_regression.predict(X_test)))\n"
   ]
  },
  {
   "cell_type": "code",
   "execution_count": null,
   "metadata": {},
   "outputs": [],
   "source": []
  }
 ],
 "metadata": {
  "language_info": {
   "codemirror_mode": {
    "name": "ipython",
    "version": 3
   },
   "file_extension": ".py",
   "mimetype": "text/x-python",
   "name": "python",
   "nbconvert_exporter": "python",
   "pygments_lexer": "ipython3",
   "version": "3.7.4-final"
  },
  "orig_nbformat": 2,
  "kernelspec": {
   "name": "python3",
   "display_name": "Python 3"
  }
 },
 "nbformat": 4,
 "nbformat_minor": 2
}